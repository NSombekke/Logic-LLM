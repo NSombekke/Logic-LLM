{
 "cells": [
  {
   "cell_type": "code",
   "execution_count": 21,
   "metadata": {},
   "outputs": [
    {
     "name": "stdout",
     "output_type": "stream",
     "text": [
      "{'id': 'LTL_dev_1', 'context': \"Our environment is a gridworld with 3 floors, each consisting of rooms made up of grid cells. Each floor has distinct rooms: the first floor contains a red room and a yellow room, the second floor contains a green room, and the third floor includes a purple room, an orange room, and Landmark one. All three floors are connected by a blue room, which is present on each floor. The drone's movement is limited to one floor and not more than one room at a timestep within this structured environment. This setup is crucial for guiding effective planning and decision-making processes within the context of our problem.\", 'question': 'First either go to the second floor or the red room and then go to the first floor. Which one of the following is a possible path for the drone to follow?', 'answer': 'A', 'flag': 'execution error', 'predicted_answer': 'B'}\n"
     ]
    }
   ],
   "source": [
    "import json\n",
    "\n",
    "# Specify the file path\n",
    "file_path = 'outputs/logic_inference/LTL/LTL_dev_meta-llama-Meta-Llama-3-8B_backup-random.json'\n",
    "\n",
    "# Open the JSON file\n",
    "with open(file_path, 'r') as file:\n",
    "    data_8B = json.load(file)\n",
    "\n",
    "# Print the data\n",
    "print(data_8B[0])"
   ]
  },
  {
   "cell_type": "code",
   "execution_count": 19,
   "metadata": {},
   "outputs": [],
   "source": [
    "def get_answer_counts(data):\n",
    "    correct = []\n",
    "    incorrect = []\n",
    "    no_answer = []\n",
    "    two_answers = []\n",
    "    three_answers = []\n",
    "    errors = {}\n",
    "\n",
    "    for i in range(len(data)):\n",
    "        if data[i]['flag'] != 'success':\n",
    "            errors[data[i]['id']] = data[i]['flag']\n",
    "\n",
    "        if isinstance(data[i]['predicted_answer'], list):\n",
    "            if len(data[i]['predicted_answer']) == 0:\n",
    "                no_answer.append(data[i]['id'])\n",
    "            elif len(data[i]['predicted_answer']) == 2:\n",
    "                two_answers.append(data[i]['id'])\n",
    "            elif len(data[i]['predicted_answer']) == 3:\n",
    "                three_answers.append(data[i]['id'])\n",
    "        else:\n",
    "            if data[i]['predicted_answer'] == data[i]['answer']:\n",
    "                correct.append(data[i]['id'])\n",
    "            else:\n",
    "                incorrect.append(data[i]['id'])\n",
    "    \n",
    "    return correct, incorrect, no_answer, two_answers, three_answers, errors"
   ]
  },
  {
   "cell_type": "code",
   "execution_count": 22,
   "metadata": {},
   "outputs": [
    {
     "name": "stdout",
     "output_type": "stream",
     "text": [
      "Correct: 9\n",
      "incorrect: 10\n",
      "no_answer: 16\n",
      "two_answers: 10\n",
      "three_answers: 5\n"
     ]
    }
   ],
   "source": [
    "correct, incorrect, no_answer, two_answers, three_answers, errors = get_answer_counts(data_8B)\n",
    "print('Correct:', len(correct))\n",
    "print('incorrect:', len(incorrect))\n",
    "print('no_answer:', len(no_answer))\n",
    "print('two_answers:', len(two_answers))\n",
    "print('three_answers:', len(three_answers))"
   ]
  },
  {
   "cell_type": "code",
   "execution_count": 24,
   "metadata": {},
   "outputs": [
    {
     "name": "stdout",
     "output_type": "stream",
     "text": [
      "{'LTL_dev_1': 'execution error'}\n"
     ]
    }
   ],
   "source": [
    "print(errors)"
   ]
  },
  {
   "cell_type": "code",
   "execution_count": 17,
   "metadata": {},
   "outputs": [
    {
     "name": "stdout",
     "output_type": "stream",
     "text": [
      "{'id': 'LTL_dev_1', 'context': \"Our environment is a gridworld with 3 floors, each consisting of rooms made up of grid cells. Each floor has distinct rooms: the first floor contains a red room and a yellow room, the second floor contains a green room, and the third floor includes a purple room, an orange room, and Landmark one. All three floors are connected by a blue room, which is present on each floor. The drone's movement is limited to one floor and not more than one room at a timestep within this structured environment. This setup is crucial for guiding effective planning and decision-making processes within the context of our problem.\", 'question': 'First either go to the second floor or the red room and then go to the first floor. Which one of the following is a possible path for the drone to follow?', 'answer': 'A', 'flag': 'success', 'predicted_answer': 'A'}\n"
     ]
    }
   ],
   "source": [
    "# Specify the file path\n",
    "file_path = 'outputs/logic_inference/LTL/LTL_dev_NousResearch-Meta-Llama-3-70B-GGUF_backup-random.json'\n",
    "\n",
    "# Open the JSON file\n",
    "with open(file_path, 'r') as file:\n",
    "    data_70B = json.load(file)\n",
    "\n",
    "# Print the data\n",
    "print(data_70B[0])"
   ]
  },
  {
   "cell_type": "code",
   "execution_count": 25,
   "metadata": {},
   "outputs": [
    {
     "name": "stdout",
     "output_type": "stream",
     "text": [
      "Correct: 14\n",
      "incorrect: 1\n",
      "no_answer: 21\n",
      "two_answers: 8\n",
      "three_answers: 6\n",
      "{'LTL_dev_36': 'execution error', 'LTL_dev_40': 'execution error', 'LTL_dev_46': 'parsing error'}\n"
     ]
    }
   ],
   "source": [
    "correct, incorrect, no_answer, two_answers, three_answers, errors = get_answer_counts(data_70B)\n",
    "print('Correct:', len(correct))\n",
    "print('incorrect:', len(incorrect))\n",
    "print('no_answer:', len(no_answer))\n",
    "print('two_answers:', len(two_answers))\n",
    "print('three_answers:', len(three_answers))\n",
    "print(errors)"
   ]
  }
 ],
 "metadata": {
  "kernelspec": {
   "display_name": "ml1labs",
   "language": "python",
   "name": "python3"
  },
  "language_info": {
   "codemirror_mode": {
    "name": "ipython",
    "version": 3
   },
   "file_extension": ".py",
   "mimetype": "text/x-python",
   "name": "python",
   "nbconvert_exporter": "python",
   "pygments_lexer": "ipython3",
   "version": "3.9.5"
  }
 },
 "nbformat": 4,
 "nbformat_minor": 2
}
